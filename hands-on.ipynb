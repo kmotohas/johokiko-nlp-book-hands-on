{
 "cells": [
  {
   "cell_type": "markdown",
   "metadata": {},
   "source": [
    "# 第3章 ハンズオンで学ぶ文書分類モデルの作成とツールの利用方法"
   ]
  },
  {
   "cell_type": "markdown",
   "metadata": {},
   "source": [
    "## 3.1 機械学習モデル開発のワークフローと本章で扱う内容"
   ]
  },
  {
   "cell_type": "markdown",
   "metadata": {},
   "source": [
    "## 3.2 文書分類ハンズオン"
   ]
  },
  {
   "cell_type": "markdown",
   "metadata": {},
   "source": [
    "### 3.2.1 本章で扱う主な自然言語処理ツールの解説"
   ]
  },
  {
   "cell_type": "markdown",
   "metadata": {},
   "source": [
    "#### 3.2.1.1 spaCy"
   ]
  },
  {
   "cell_type": "code",
   "execution_count": null,
   "metadata": {},
   "outputs": [],
   "source": [
    "!pip install -U spacy[cuda]\n",
    "# pip install -U spacy  # GPUを利用しない場合"
   ]
  },
  {
   "cell_type": "code",
   "execution_count": null,
   "metadata": {
    "scrolled": true
   },
   "outputs": [],
   "source": [
    "!pip install mecab-python3"
   ]
  },
  {
   "cell_type": "code",
   "execution_count": 3,
   "metadata": {},
   "outputs": [
    {
     "name": "stdout",
     "output_type": "stream",
     "text": [
      "すもも\n",
      "も\n",
      "もも\n",
      "も\n",
      "もも\n",
      "の\n",
      "うち\n"
     ]
    }
   ],
   "source": [
    "import spacy\n",
    "nlp = spacy.blank('ja')\n",
    "for word in nlp('すもももももももものうち'):\n",
    "    print(word)"
   ]
  },
  {
   "cell_type": "markdown",
   "metadata": {},
   "source": [
    "#### 3.2.1.2 Transformers"
   ]
  },
  {
   "cell_type": "code",
   "execution_count": null,
   "metadata": {},
   "outputs": [],
   "source": [
    "# 2019年12月現在、NVIDIAのGPUを搭載したLinuxマシンにPyTorchをインストールするコマンドは以下の通りです。\n",
    "!pip install torch torchvision"
   ]
  },
  {
   "cell_type": "code",
   "execution_count": null,
   "metadata": {},
   "outputs": [],
   "source": [
    "!pip install torchtext"
   ]
  },
  {
   "cell_type": "code",
   "execution_count": null,
   "metadata": {},
   "outputs": [],
   "source": [
    "!pip install transformers"
   ]
  },
  {
   "cell_type": "code",
   "execution_count": null,
   "metadata": {},
   "outputs": [],
   "source": [
    "!pip install pandas scikit-learn tensorboard mojimoji"
   ]
  },
  {
   "cell_type": "code",
   "execution_count": 9,
   "metadata": {},
   "outputs": [
    {
     "data": {
      "text/plain": [
       "['いつも',\n",
       " 'プレゼンテーション',\n",
       " 'の',\n",
       " '撮影',\n",
       " 'に',\n",
       " '無',\n",
       " '##音',\n",
       " 'カメラ',\n",
       " '##アプリ',\n",
       " 'を',\n",
       " 'ご',\n",
       " '利用',\n",
       " 'いただ',\n",
       " '##き',\n",
       " 'ありがとう',\n",
       " 'ござい',\n",
       " 'ます',\n",
       " '。']"
      ]
     },
     "execution_count": 9,
     "metadata": {},
     "output_type": "execute_result"
    }
   ],
   "source": [
    "from transformers import BertJapaneseTokenizer\n",
    "tokenizer = BertJapaneseTokenizer.from_pretrained('bert-base-japanese-whole-word-masking')\n",
    "tokenizer.tokenize('いつもプレゼンテーションの撮影に無音カメラアプリをご利用いただきありがとうございます。')"
   ]
  },
  {
   "cell_type": "markdown",
   "metadata": {},
   "source": [
    "### 3.2.2 データセットの準備"
   ]
  },
  {
   "cell_type": "markdown",
   "metadata": {},
   "source": [
    "#### 3.2.2.1 livedoor ニュースコーパス"
   ]
  },
  {
   "cell_type": "code",
   "execution_count": 10,
   "metadata": {},
   "outputs": [],
   "source": [
    "import os\n",
    "import urllib.request\n",
    "import tarfile\n",
    "\n",
    "# dataディレクトリの作成\n",
    "#os.makedirs('data', exist_ok=True)\n",
    "\n",
    "url = 'https://www.rondhuit.com/download/ldcc-20140209.tar.gz'\n",
    "file_name = 'ldcc-20140209.tar.gz'\n",
    "\n",
    "# dataディレクトリへのlivedoor ニュースコーパスのダウンロードと解凍\n",
    "if not os.path.exists(file_name):\n",
    "    urllib.request.urlretrieve(url, file_name)\n",
    "    # tar.gzファイルを読み込み\n",
    "    with tarfile.open(file_name) as tar:\n",
    "        tar.extractall()\n",
    "    # tar.gzファイルを消去\n",
    "    os.remove(file_name)"
   ]
  },
  {
   "cell_type": "code",
   "execution_count": 11,
   "metadata": {},
   "outputs": [
    {
     "name": "stdout",
     "output_type": "stream",
     "text": [
      "===== processing dokujo-tsushin =====\n",
      "===== processing it-life-hack =====\n",
      "===== processing kaden-channel =====\n",
      "===== processing livedoor-homme =====\n",
      "===== processing movie-enter =====\n",
      "===== processing peachy =====\n",
      "===== processing smax =====\n",
      "===== processing sports-watch =====\n",
      "===== processing topic-news =====\n",
      "done\n"
     ]
    }
   ],
   "source": [
    "import os\n",
    "import glob\n",
    "\n",
    "import pandas as pd\n",
    "\n",
    "# あまりに短い段落は除く\n",
    "minimum_sentence_length = 32\n",
    "\n",
    "# livedoor ニュースのサービス名のリスト\n",
    "services = [\n",
    "    'dokujo-tsushin',\n",
    "    'it-life-hack',\n",
    "    'kaden-channel',\n",
    "    'livedoor-homme',\n",
    "    'movie-enter',\n",
    "    'peachy',\n",
    "    'smax',\n",
    "    'sports-watch',\n",
    "    'topic-news'\n",
    "]\n",
    "# tsvファイルの各カラムのインデックス名のリスト\n",
    "index = ['url', 'datetime', 'title', 'body']\n",
    "\n",
    "# 空のPandasのDataFrameを準備\n",
    "df = pd.DataFrame()\n",
    "\n",
    "# 各サービスのディレクトリでループ\n",
    "for service in services:\n",
    "    print('===== processing {} ====='.format(service))\n",
    "    # ニュース記事をすべて指定\n",
    "    # パスの例は './text/dokujo-tsushin/dokujo-tsushin-4778030.txt'\n",
    "    # LICENSE.txt は除外\n",
    "    wild_card = os.path.join('text', service, service + '*.txt')\n",
    "    file_paths = glob.glob(wild_card)\n",
    "    # 各ニュース記事のファイルパスでループ\n",
    "    for file_path in file_paths:\n",
    "        # ファイルを開いて一行ずつ読み込む\n",
    "        with open(file_path, 'r') as f:\n",
    "            lines = f.readlines()\n",
    "            # tsv のカラムを辞書型で用意\n",
    "            series_dict = {'service': service}\n",
    "            for num, line in enumerate(lines):\n",
    "                #line = line.replace('\\n', '')  # 改行を削除\n",
    "                # 0, 1, 2行目はそれぞれURL, 日付, 記事タイトルに相当\n",
    "                if num < len(index):\n",
    "                    series_dict[index[num]] = line\n",
    "                # 3行目以降は本文\n",
    "                elif line != '\\n' and line != '':\n",
    "                    series_dict['body'] += line\n",
    "                # lineが空（段落の境目もしくはファイルの末尾）の場合\n",
    "                else:\n",
    "                    if '関連記事' in series_dict['body']:\n",
    "                        pass\n",
    "                    elif '関連リンク' in series_dict['body']:\n",
    "                        pass\n",
    "                    # PandasのSeriesを作成し、DataFrameに追加していく\n",
    "                    elif len(series_dict['body']) > minimum_sentence_length:\n",
    "                        s = pd.Series(series_dict)\n",
    "                        df = df.append(s, ignore_index=True)\n",
    "                    # bodyを初期化\n",
    "                    series_dict['body'] = ''\n",
    "print('done')         "
   ]
  },
  {
   "cell_type": "code",
   "execution_count": 12,
   "metadata": {},
   "outputs": [
    {
     "data": {
      "text/html": [
       "<div>\n",
       "<style scoped>\n",
       "    .dataframe tbody tr th:only-of-type {\n",
       "        vertical-align: middle;\n",
       "    }\n",
       "\n",
       "    .dataframe tbody tr th {\n",
       "        vertical-align: top;\n",
       "    }\n",
       "\n",
       "    .dataframe thead th {\n",
       "        text-align: right;\n",
       "    }\n",
       "</style>\n",
       "<table border=\"1\" class=\"dataframe\">\n",
       "  <thead>\n",
       "    <tr style=\"text-align: right;\">\n",
       "      <th></th>\n",
       "      <th>body</th>\n",
       "      <th>datetime</th>\n",
       "      <th>service</th>\n",
       "      <th>title</th>\n",
       "      <th>url</th>\n",
       "    </tr>\n",
       "  </thead>\n",
       "  <tbody>\n",
       "    <tr>\n",
       "      <th>0</th>\n",
       "      <td>「しっかりメイクをしている顔よりも、スッピンのほうがいい」と言う男性は少なくない。しかしメイ...</td>\n",
       "      <td>2011-10-13T15:28:00+0900\\n</td>\n",
       "      <td>dokujo-tsushin</td>\n",
       "      <td>「スッピンのほうがいい」って本当？——言葉の裏に隠された男の本音\\n</td>\n",
       "      <td>http://news.livedoor.com/article/detail/593428...</td>\n",
       "    </tr>\n",
       "    <tr>\n",
       "      <th>1</th>\n",
       "      <td>「『スッピンのほうがいい』とは、スッピンでもメイク時と同じくらいかわいい女性が好みだという意...</td>\n",
       "      <td>2011-10-13T15:28:00+0900\\n</td>\n",
       "      <td>dokujo-tsushin</td>\n",
       "      <td>「スッピンのほうがいい」って本当？——言葉の裏に隠された男の本音\\n</td>\n",
       "      <td>http://news.livedoor.com/article/detail/593428...</td>\n",
       "    </tr>\n",
       "    <tr>\n",
       "      <th>2</th>\n",
       "      <td>●「女の子は多少、太ってるくらいがかわいいよ」\\n女性は年中、ダイエットと向き合っている。ど...</td>\n",
       "      <td>2011-10-13T15:28:00+0900\\n</td>\n",
       "      <td>dokujo-tsushin</td>\n",
       "      <td>「スッピンのほうがいい」って本当？——言葉の裏に隠された男の本音\\n</td>\n",
       "      <td>http://news.livedoor.com/article/detail/593428...</td>\n",
       "    </tr>\n",
       "    <tr>\n",
       "      <th>56628</th>\n",
       "      <td>藤村修官房長官は20日、記者会見を開き、「政府として軍事転用などという考えは一切持っていない...</td>\n",
       "      <td>2012-06-21T20:32:00+0900\\n</td>\n",
       "      <td>topic-news</td>\n",
       "      <td>原子力基本法の改正に、韓国から「日本の核武装を阻止すべき」「我々も核武装だ」の声\\n</td>\n",
       "      <td>http://news.livedoor.com/article/detail/668154...</td>\n",
       "    </tr>\n",
       "    <tr>\n",
       "      <th>56629</th>\n",
       "      <td>ニュースを受け、韓国のネット掲示板では、「日本は本当に怖い国だ」「日本がするなら我々もする」...</td>\n",
       "      <td>2012-06-21T20:32:00+0900\\n</td>\n",
       "      <td>topic-news</td>\n",
       "      <td>原子力基本法の改正に、韓国から「日本の核武装を阻止すべき」「我々も核武装だ」の声\\n</td>\n",
       "      <td>http://news.livedoor.com/article/detail/668154...</td>\n",
       "    </tr>\n",
       "    <tr>\n",
       "      <th>56630</th>\n",
       "      <td>一方で、「韓国、日本、台湾が全部核武装すれば真の平和が訪れるかもしれない」「各国の健全な良識...</td>\n",
       "      <td>2012-06-21T20:32:00+0900\\n</td>\n",
       "      <td>topic-news</td>\n",
       "      <td>原子力基本法の改正に、韓国から「日本の核武装を阻止すべき」「我々も核武装だ」の声\\n</td>\n",
       "      <td>http://news.livedoor.com/article/detail/668154...</td>\n",
       "    </tr>\n",
       "  </tbody>\n",
       "</table>\n",
       "</div>"
      ],
      "text/plain": [
       "                                                    body  \\\n",
       "0      「しっかりメイクをしている顔よりも、スッピンのほうがいい」と言う男性は少なくない。しかしメイ...   \n",
       "1      「『スッピンのほうがいい』とは、スッピンでもメイク時と同じくらいかわいい女性が好みだという意...   \n",
       "2      ●「女の子は多少、太ってるくらいがかわいいよ」\\n女性は年中、ダイエットと向き合っている。ど...   \n",
       "56628  藤村修官房長官は20日、記者会見を開き、「政府として軍事転用などという考えは一切持っていない...   \n",
       "56629  ニュースを受け、韓国のネット掲示板では、「日本は本当に怖い国だ」「日本がするなら我々もする」...   \n",
       "56630  一方で、「韓国、日本、台湾が全部核武装すれば真の平和が訪れるかもしれない」「各国の健全な良識...   \n",
       "\n",
       "                         datetime         service  \\\n",
       "0      2011-10-13T15:28:00+0900\\n  dokujo-tsushin   \n",
       "1      2011-10-13T15:28:00+0900\\n  dokujo-tsushin   \n",
       "2      2011-10-13T15:28:00+0900\\n  dokujo-tsushin   \n",
       "56628  2012-06-21T20:32:00+0900\\n      topic-news   \n",
       "56629  2012-06-21T20:32:00+0900\\n      topic-news   \n",
       "56630  2012-06-21T20:32:00+0900\\n      topic-news   \n",
       "\n",
       "                                            title  \\\n",
       "0              「スッピンのほうがいい」って本当？——言葉の裏に隠された男の本音\\n   \n",
       "1              「スッピンのほうがいい」って本当？——言葉の裏に隠された男の本音\\n   \n",
       "2              「スッピンのほうがいい」って本当？——言葉の裏に隠された男の本音\\n   \n",
       "56628  原子力基本法の改正に、韓国から「日本の核武装を阻止すべき」「我々も核武装だ」の声\\n   \n",
       "56629  原子力基本法の改正に、韓国から「日本の核武装を阻止すべき」「我々も核武装だ」の声\\n   \n",
       "56630  原子力基本法の改正に、韓国から「日本の核武装を阻止すべき」「我々も核武装だ」の声\\n   \n",
       "\n",
       "                                                     url  \n",
       "0      http://news.livedoor.com/article/detail/593428...  \n",
       "1      http://news.livedoor.com/article/detail/593428...  \n",
       "2      http://news.livedoor.com/article/detail/593428...  \n",
       "56628  http://news.livedoor.com/article/detail/668154...  \n",
       "56629  http://news.livedoor.com/article/detail/668154...  \n",
       "56630  http://news.livedoor.com/article/detail/668154...  "
      ]
     },
     "execution_count": 12,
     "metadata": {},
     "output_type": "execute_result"
    }
   ],
   "source": [
    "pd.concat([df.head(3), df.tail(3)])"
   ]
  },
  {
   "cell_type": "code",
   "execution_count": 13,
   "metadata": {},
   "outputs": [
    {
     "data": {
      "text/plain": [
       "smax              9212\n",
       "it-life-hack      8400\n",
       "dokujo-tsushin    8296\n",
       "peachy            7934\n",
       "movie-enter       6524\n",
       "livedoor-homme    5329\n",
       "kaden-channel     3818\n",
       "topic-news        3603\n",
       "sports-watch      3515\n",
       "Name: service, dtype: int64"
      ]
     },
     "execution_count": 13,
     "metadata": {},
     "output_type": "execute_result"
    }
   ],
   "source": [
    "df['service'].value_counts()"
   ]
  },
  {
   "cell_type": "code",
   "execution_count": 14,
   "metadata": {},
   "outputs": [
    {
     "data": {
      "text/plain": [
       "<matplotlib.axes._subplots.AxesSubplot at 0x7f6557b4e350>"
      ]
     },
     "execution_count": 14,
     "metadata": {},
     "output_type": "execute_result"
    },
    {
     "data": {
      "image/png": "[encoded data removed]",
      "text/plain": [
       "<Figure size 432x288 with 1 Axes>"
      ]
     },
     "metadata": {
      "needs_background": "light"
     },
     "output_type": "display_data"
    }
   ],
   "source": [
    "(df['service'].value_counts()).plot(kind='bar', rot=45, ylim=(0, 10000))"
   ]
  },
  {
   "cell_type": "code",
   "execution_count": 15,
   "metadata": {},
   "outputs": [
    {
     "data": {
      "text/html": [
       "<div>\n",
       "<style scoped>\n",
       "    .dataframe tbody tr th:only-of-type {\n",
       "        vertical-align: middle;\n",
       "    }\n",
       "\n",
       "    .dataframe tbody tr th {\n",
       "        vertical-align: top;\n",
       "    }\n",
       "\n",
       "    .dataframe thead th {\n",
       "        text-align: right;\n",
       "    }\n",
       "</style>\n",
       "<table border=\"1\" class=\"dataframe\">\n",
       "  <thead>\n",
       "    <tr style=\"text-align: right;\">\n",
       "      <th></th>\n",
       "      <th>body</th>\n",
       "      <th>datetime</th>\n",
       "      <th>service</th>\n",
       "      <th>title</th>\n",
       "      <th>url</th>\n",
       "    </tr>\n",
       "  </thead>\n",
       "  <tbody>\n",
       "    <tr>\n",
       "      <th>0</th>\n",
       "      <td>「しっかりメイクをしている顔よりも、スッピンのほうがいい」と言う男性は少なくない。しかしメイ...</td>\n",
       "      <td>2011-10-13T15:28:00+0900\\n</td>\n",
       "      <td>0</td>\n",
       "      <td>「スッピンのほうがいい」って本当？——言葉の裏に隠された男の本音\\n</td>\n",
       "      <td>http://news.livedoor.com/article/detail/593428...</td>\n",
       "    </tr>\n",
       "    <tr>\n",
       "      <th>1</th>\n",
       "      <td>「『スッピンのほうがいい』とは、スッピンでもメイク時と同じくらいかわいい女性が好みだという意...</td>\n",
       "      <td>2011-10-13T15:28:00+0900\\n</td>\n",
       "      <td>0</td>\n",
       "      <td>「スッピンのほうがいい」って本当？——言葉の裏に隠された男の本音\\n</td>\n",
       "      <td>http://news.livedoor.com/article/detail/593428...</td>\n",
       "    </tr>\n",
       "    <tr>\n",
       "      <th>2</th>\n",
       "      <td>●「女の子は多少、太ってるくらいがかわいいよ」\\n女性は年中、ダイエットと向き合っている。ど...</td>\n",
       "      <td>2011-10-13T15:28:00+0900\\n</td>\n",
       "      <td>0</td>\n",
       "      <td>「スッピンのほうがいい」って本当？——言葉の裏に隠された男の本音\\n</td>\n",
       "      <td>http://news.livedoor.com/article/detail/593428...</td>\n",
       "    </tr>\n",
       "    <tr>\n",
       "      <th>56628</th>\n",
       "      <td>藤村修官房長官は20日、記者会見を開き、「政府として軍事転用などという考えは一切持っていない...</td>\n",
       "      <td>2012-06-21T20:32:00+0900\\n</td>\n",
       "      <td>8</td>\n",
       "      <td>原子力基本法の改正に、韓国から「日本の核武装を阻止すべき」「我々も核武装だ」の声\\n</td>\n",
       "      <td>http://news.livedoor.com/article/detail/668154...</td>\n",
       "    </tr>\n",
       "    <tr>\n",
       "      <th>56629</th>\n",
       "      <td>ニュースを受け、韓国のネット掲示板では、「日本は本当に怖い国だ」「日本がするなら我々もする」...</td>\n",
       "      <td>2012-06-21T20:32:00+0900\\n</td>\n",
       "      <td>8</td>\n",
       "      <td>原子力基本法の改正に、韓国から「日本の核武装を阻止すべき」「我々も核武装だ」の声\\n</td>\n",
       "      <td>http://news.livedoor.com/article/detail/668154...</td>\n",
       "    </tr>\n",
       "    <tr>\n",
       "      <th>56630</th>\n",
       "      <td>一方で、「韓国、日本、台湾が全部核武装すれば真の平和が訪れるかもしれない」「各国の健全な良識...</td>\n",
       "      <td>2012-06-21T20:32:00+0900\\n</td>\n",
       "      <td>8</td>\n",
       "      <td>原子力基本法の改正に、韓国から「日本の核武装を阻止すべき」「我々も核武装だ」の声\\n</td>\n",
       "      <td>http://news.livedoor.com/article/detail/668154...</td>\n",
       "    </tr>\n",
       "  </tbody>\n",
       "</table>\n",
       "</div>"
      ],
      "text/plain": [
       "                                                    body  \\\n",
       "0      「しっかりメイクをしている顔よりも、スッピンのほうがいい」と言う男性は少なくない。しかしメイ...   \n",
       "1      「『スッピンのほうがいい』とは、スッピンでもメイク時と同じくらいかわいい女性が好みだという意...   \n",
       "2      ●「女の子は多少、太ってるくらいがかわいいよ」\\n女性は年中、ダイエットと向き合っている。ど...   \n",
       "56628  藤村修官房長官は20日、記者会見を開き、「政府として軍事転用などという考えは一切持っていない...   \n",
       "56629  ニュースを受け、韓国のネット掲示板では、「日本は本当に怖い国だ」「日本がするなら我々もする」...   \n",
       "56630  一方で、「韓国、日本、台湾が全部核武装すれば真の平和が訪れるかもしれない」「各国の健全な良識...   \n",
       "\n",
       "                         datetime  service  \\\n",
       "0      2011-10-13T15:28:00+0900\\n        0   \n",
       "1      2011-10-13T15:28:00+0900\\n        0   \n",
       "2      2011-10-13T15:28:00+0900\\n        0   \n",
       "56628  2012-06-21T20:32:00+0900\\n        8   \n",
       "56629  2012-06-21T20:32:00+0900\\n        8   \n",
       "56630  2012-06-21T20:32:00+0900\\n        8   \n",
       "\n",
       "                                            title  \\\n",
       "0              「スッピンのほうがいい」って本当？——言葉の裏に隠された男の本音\\n   \n",
       "1              「スッピンのほうがいい」って本当？——言葉の裏に隠された男の本音\\n   \n",
       "2              「スッピンのほうがいい」って本当？——言葉の裏に隠された男の本音\\n   \n",
       "56628  原子力基本法の改正に、韓国から「日本の核武装を阻止すべき」「我々も核武装だ」の声\\n   \n",
       "56629  原子力基本法の改正に、韓国から「日本の核武装を阻止すべき」「我々も核武装だ」の声\\n   \n",
       "56630  原子力基本法の改正に、韓国から「日本の核武装を阻止すべき」「我々も核武装だ」の声\\n   \n",
       "\n",
       "                                                     url  \n",
       "0      http://news.livedoor.com/article/detail/593428...  \n",
       "1      http://news.livedoor.com/article/detail/593428...  \n",
       "2      http://news.livedoor.com/article/detail/593428...  \n",
       "56628  http://news.livedoor.com/article/detail/668154...  \n",
       "56629  http://news.livedoor.com/article/detail/668154...  \n",
       "56630  http://news.livedoor.com/article/detail/668154...  "
      ]
     },
     "execution_count": 15,
     "metadata": {},
     "output_type": "execute_result"
    }
   ],
   "source": [
    "from sklearn.preprocessing import LabelEncoder\n",
    "le = LabelEncoder()\n",
    "df['service'] = le.fit_transform(df.service.values)\n",
    "pd.concat([df.head(3), df.tail(3)])  # 最初と最後の3行を抽出"
   ]
  },
  {
   "cell_type": "code",
   "execution_count": 16,
   "metadata": {},
   "outputs": [],
   "source": [
    "from sklearn.model_selection import train_test_split\n",
    "df = df[['body', 'service']]  # 本文とラベルのみ抽出\n",
    "train_df, val_test_df = train_test_split(df, test_size=0.2)\n",
    "val_df, test_df = train_test_split(val_test_df, test_size=0.5)"
   ]
  },
  {
   "cell_type": "code",
   "execution_count": 17,
   "metadata": {},
   "outputs": [],
   "source": [
    "train_df.to_csv('train.tsv', sep='\\t', index=False)\n",
    "val_df.to_csv('val.tsv', sep='\\t', index=False)\n",
    "test_df.to_csv('test.tsv', sep='\\t', index=False)"
   ]
  },
  {
   "cell_type": "markdown",
   "metadata": {},
   "source": [
    "### 3.2.3 文書分類モデル"
   ]
  },
  {
   "cell_type": "markdown",
   "metadata": {},
   "source": [
    "#### 3.2.3.1 単語バッグ  (bag-of-words)"
   ]
  },
  {
   "cell_type": "markdown",
   "metadata": {},
   "source": [
    "##### データセットの読み込み"
   ]
  },
  {
   "cell_type": "code",
   "execution_count": 18,
   "metadata": {},
   "outputs": [],
   "source": [
    "import pandas as pd\n",
    "df_train = pd.read_csv('train.tsv', delimiter='\\t')\n",
    "df_val = pd.read_csv('val.tsv', delimiter='\\t')\n",
    "df_test = pd.read_csv('test.tsv', delimiter='\\t')"
   ]
  },
  {
   "cell_type": "code",
   "execution_count": 19,
   "metadata": {},
   "outputs": [],
   "source": [
    "train_texts = df_train.body\n",
    "val_texts = df_val.body\n",
    "test_texts = df_test.body"
   ]
  },
  {
   "cell_type": "code",
   "execution_count": 20,
   "metadata": {},
   "outputs": [],
   "source": [
    "import spacy\n",
    "spacy.prefer_gpu()  # GPUがない場合、この行はスキップ\n",
    "nlp = spacy.blank('ja')\n",
    "\n",
    "train_docs = list(nlp.pipe(train_texts))\n",
    "val_docs = list(nlp.pipe(val_texts))\n",
    "test_docs = list(nlp.pipe(test_texts))"
   ]
  },
  {
   "cell_type": "code",
   "execution_count": 21,
   "metadata": {},
   "outputs": [],
   "source": [
    "services = [\n",
    "    'dokujo-tsushin',\n",
    "    'it-life-hack',\n",
    "    'kaden-channel',\n",
    "    'livedoor-homme',\n",
    "    'movie-enter',\n",
    "    'peachy',\n",
    "    'smax',\n",
    "    'sports-watch',\n",
    "    'topic-news'\n",
    "]\n",
    "\n",
    "train_cats = [{'cats': {service: service == services[idx] for service in services}}\n",
    "              for idx in df_train.service]\n",
    "val_cats = [{'cats': {service: service == services[idx] for service in services}}\n",
    "            for idx in df_val.service]\n",
    "test_cats = [{'cats': {service: service == services[idx] for service in services}}\n",
    "             for idx in df_test.service]"
   ]
  },
  {
   "cell_type": "code",
   "execution_count": 22,
   "metadata": {},
   "outputs": [
    {
     "name": "stdout",
     "output_type": "stream",
     "text": [
      "[{'cats': {'dokujo-tsushin': False, 'it-life-hack': False, 'kaden-channel': False, 'livedoor-homme': True, 'movie-enter': False, 'peachy': False, 'smax': False, 'sports-watch': False, 'topic-news': False}}, {'cats': {'dokujo-tsushin': False, 'it-life-hack': False, 'kaden-channel': False, 'livedoor-homme': False, 'movie-enter': True, 'peachy': False, 'smax': False, 'sports-watch': False, 'topic-news': False}}]\n"
     ]
    }
   ],
   "source": [
    "print(train_cats[0:2])"
   ]
  },
  {
   "cell_type": "code",
   "execution_count": 23,
   "metadata": {},
   "outputs": [],
   "source": [
    "train_data = list(zip(train_docs, train_cats))\n",
    "val_data = list(zip(val_docs, val_cats))\n",
    "test_data = list(zip(test_docs, test_cats))"
   ]
  },
  {
   "cell_type": "markdown",
   "metadata": {},
   "source": [
    "##### 文書分類モデルの訓練"
   ]
  },
  {
   "cell_type": "code",
   "execution_count": 24,
   "metadata": {},
   "outputs": [],
   "source": [
    "if 'textcat' not in nlp.pipe_names:\n",
    "    textcat = nlp.create_pipe('textcat', \n",
    "                              config={'exclusive_classes': True, 'architecture': 'bow'})\n",
    "    nlp.add_pipe(textcat, last=True)  # パイプラインの末尾に追加"
   ]
  },
  {
   "cell_type": "code",
   "execution_count": 25,
   "metadata": {},
   "outputs": [
    {
     "name": "stdout",
     "output_type": "stream",
     "text": [
      "Add label dokujo-tsushin.\n",
      "Add label it-life-hack.\n",
      "Add label kaden-channel.\n",
      "Add label livedoor-homme.\n",
      "Add label movie-enter.\n",
      "Add label peachy.\n",
      "Add label smax.\n",
      "Add label sports-watch.\n",
      "Add label topic-news.\n"
     ]
    }
   ],
   "source": [
    "for service in services:\n",
    "    textcat.add_label(service)\n",
    "    print(\"Add label %s.\" % (service))"
   ]
  },
  {
   "cell_type": "code",
   "execution_count": 26,
   "metadata": {},
   "outputs": [],
   "source": [
    "from sklearn.metrics import classification_report\n",
    "\n",
    "def evaluate(tokenizer, textcat, docs, cats, output_dict=False):\n",
    "    \"\"\"訓練時にモデルの性能を評価する関数\n",
    "    \n",
    "    引数:\n",
    "        tokenizer: パイプライン内に含まれるトークナイザー\n",
    "        textcat: 訓練対象の文書分類モデル\n",
    "        docs: 評価用データセットのテキストのリスト\n",
    "        cats: 評価用データセットのラベルのリスト\n",
    "              e.g. [{'cats': {'dokujo-tsushin': False, ...}}, {'cats': ...}]\n",
    "    返り値:\n",
    "        sklearn.metrics.classification_report: 各ラベルに対する性能の表\n",
    "            (str) if output_dict is False else (dict)\n",
    "    \"\"\"\n",
    "    # Trueのラベルの名前を y_true absのリストに詰める\n",
    "    # e.g. ['dokujo-tsushin', 'smax', 'peachy', ...]\n",
    "    y_true = [max(cat['cats'].items(), key=lambda x:x[1])[0] for cat in cats]\n",
    "    # 一番出力値が大きいラベルの名前を y_pred のリストに詰める\n",
    "    y_pred = []\n",
    "    for i, doc in enumerate(textcat.pipe(docs)):\n",
    "        prediction = max(doc.cats.items(), key=lambda x:x[1])[0]  # 予測のサービス名\n",
    "        y_pred.append(prediction)\n",
    "    return classification_report(y_true, y_pred, output_dict=output_dict)"
   ]
  },
  {
   "cell_type": "code",
   "execution_count": null,
   "metadata": {},
   "outputs": [],
   "source": [
    "import random\n",
    "from tqdm.notebook import tqdm\n",
    "from spacy.util import minibatch, compounding\n",
    "from datetime import datetime\n",
    "from torch.utils.tensorboard import SummaryWriter\n",
    "writer = SummaryWriter(log_dir='./logs/bow/' + datetime.today().isoformat(timespec='seconds'))\n",
    "\n",
    "# 'textcat' 以外のパイプラインを抽出 (今回は空)\n",
    "other_pipes = [pipe for pipe in nlp.pipe_names if pipe != 'textcat']\n",
    "# エポック数（何回データセット全体に対してループを回すか）\n",
    "n_epochs = 32\n",
    "\n",
    "with nlp.disable_pipes(*other_pipes):  # textcat のみを訓練する\n",
    "    # >>> nlp.pipeline\n",
    "    # [('textcat', <spacy.pipeline.pipes.TextCategorizer object at 0x7f62703ee790>)]\n",
    "    textcat = nlp.pipeline[-1][-1]\n",
    "    optimizer = textcat.begin_training()\n",
    "    print('Training the model...')\n",
    "    # ミニバッチサイズのスケジューリング https://arxiv.org/abs/1711.00489\n",
    "    batch_sizes = compounding(4.0, 32.0, 1.001)  # サイズ4から始めて上限32まで1.001倍していく\n",
    "    num_samples = len(train_data)\n",
    "    for epoch in range(n_epochs):\n",
    "        print('===== iteration {}/{} ====='.format(epoch+1, n_epochs))\n",
    "        losses = {}\n",
    "        # 訓練データをシャッフルしてミニバッチ化する\n",
    "        random.shuffle(train_data)\n",
    "        batches = minibatch(train_data, size=batch_sizes)  # generator\n",
    "        processed = 0\n",
    "        for batch in tqdm(batches):\n",
    "            texts, annotations = zip(*batch)\n",
    "            nlp.update(texts, annotations, sgd=optimizer, drop=0.2, losses=losses)\n",
    "        # spaCyでは重みの移動平均をトラックしている\n",
    "        # モデルを利用する際は重みの最新値でなく平均値を利用\n",
    "        # cf. https://www.aclweb.org/anthology/P04-1015/\n",
    "        with textcat.model.use_params(optimizer.averages):\n",
    "            print('val loss = {:.4f}'.format(losses['textcat']))\n",
    "            # TensorBoard用のログ記録\n",
    "            writer.add_scalar('Loss vs Epoch/val', losses['textcat'], epoch+1)\n",
    "            # バリデーションデータに対してモデルを評価する\n",
    "            report = evaluate(nlp.tokenizer, textcat, val_docs, val_cats, output_dict=True)\n",
    "            print('val accuracy = {:.4f}'.format(report['accuracy']))\n",
    "            # TensorBoard用のログ記録\n",
    "            writer.add_scalar('Accuracy vs Epoch/val', report['accuracy'], epoch+1)"
   ]
  },
  {
   "cell_type": "code",
   "execution_count": null,
   "metadata": {},
   "outputs": [],
   "source": [
    "report = evaluate(nlp.tokenizer, textcat, test_docs, test_cats)\n",
    "print(report)\n",
    "# より詳細な値を確認したい場合\n",
    "#report = evaluate(nlp.tokenizer, textcat, test_docs, test_cats, output_dict=True)\n",
    "#print('val accuracy is ', report['accuracy'])"
   ]
  },
  {
   "cell_type": "code",
   "execution_count": null,
   "metadata": {},
   "outputs": [],
   "source": [
    "with nlp.use_params(optimizer.averages):\n",
    "    nlp.to_disk('bow')"
   ]
  },
  {
   "cell_type": "code",
   "execution_count": null,
   "metadata": {},
   "outputs": [],
   "source": [
    "nlp = spacy.load('bow')"
   ]
  },
  {
   "cell_type": "code",
   "execution_count": null,
   "metadata": {},
   "outputs": [],
   "source": [
    "# テストデータ内の livedoor-homme のニュースの一文\n",
    "doc = nlp('転職者なら誰でも気になる採用する側の心理')\n",
    "print('true label is livedoor-home ||', doc.cats)\n",
    "# テストデータ内の smax のニュースの一段落\n",
    "doc = nlp('ARROWS X F-10Dが7月20日に発売')\n",
    "print('true label is smax ||', doc.cats)"
   ]
  },
  {
   "cell_type": "markdown",
   "metadata": {},
   "source": [
    "#### 3.2.3.2 畳み込みニューラルネットワーク"
   ]
  },
  {
   "cell_type": "code",
   "execution_count": null,
   "metadata": {},
   "outputs": [],
   "source": [
    "nlp.remove_pipe('textcat')"
   ]
  },
  {
   "cell_type": "code",
   "execution_count": null,
   "metadata": {},
   "outputs": [],
   "source": [
    "if 'textcat' not in nlp.pipe_names:\n",
    "    # 今回は 'architecture': 'simple_cnn'\n",
    "    textcat = nlp.create_pipe('textcat', config={'exclusive_classes': True, 'architecture': 'simple_cnn'})\n",
    "    nlp.add_pipe(textcat, last=True)\n",
    "\n",
    "for label in services:\n",
    "    textcat.add_label(label)\n",
    "    print('Add label %s.' % (label))"
   ]
  },
  {
   "cell_type": "code",
   "execution_count": null,
   "metadata": {},
   "outputs": [],
   "source": [
    "import random\n",
    "from tqdm.notebook import tqdm\n",
    "from spacy.util import minibatch, compounding\n",
    "from datetime import datetime\n",
    "from torch.utils.tensorboard import SummaryWriter\n",
    "writer = SummaryWriter(log_dir='./logs/simple_cnn/' + datetime.today().isoformat(timespec='seconds'))\n",
    "\n",
    "# 'textcat' 以外のパイプラインを抽出 (今回は空)\n",
    "other_pipes = [pipe for pipe in nlp.pipe_names if pipe != 'textcat']\n",
    "# エポック数（何回データセット全体に対してループを回すか）\n",
    "n_epochs = 32\n",
    "\n",
    "with nlp.disable_pipes(*other_pipes):  # textcat のみを訓練する\n",
    "    # >>> nlp.pipeline\n",
    "    # [('textcat', <spacy.pipeline.pipes.TextCategorizer object at 0x7f62703ee790>)]\n",
    "    textcat = nlp.pipeline[-1][-1]\n",
    "    optimizer = textcat.begin_training()\n",
    "    print('Training the model...')\n",
    "    # ミニバッチサイズのスケジューリング https://arxiv.org/abs/1711.00489\n",
    "    batch_sizes = compounding(4.0, 32.0, 1.001)  # サイズ4から始めて上限32まで1.001倍していく\n",
    "    num_samples = len(train_data)\n",
    "    for epoch in range(n_epochs):\n",
    "        print('===== iteration {}/{} ====='.format(epoch+1, n_epochs))\n",
    "        losses = {}\n",
    "        # 訓練データをシャッフルしてミニバッチ化する\n",
    "        random.shuffle(train_data)\n",
    "        batches = minibatch(train_data, size=batch_sizes)  # generator\n",
    "        processed = 0\n",
    "        for batch in tqdm(batches):\n",
    "            texts, annotations = zip(*batch)\n",
    "            nlp.update(texts, annotations, sgd=optimizer, drop=0.2, losses=losses)\n",
    "        # spaCyでは重みの移動平均をトラックしている\n",
    "        # モデルを利用する際は重みの最新値でなく平均値を利用\n",
    "        # cf. https://www.aclweb.org/anthology/P04-1015/\n",
    "        with textcat.model.use_params(optimizer.averages):\n",
    "            print('val loss = {:.4f}'.format(losses['textcat']))\n",
    "            # TensorBoard用のログ記録\n",
    "            writer.add_scalar('Loss vs Epoch/val', losses['textcat'], epoch+1)\n",
    "            # バリデーションデータに対してモデルを評価する\n",
    "            report = evaluate(nlp.tokenizer, textcat, val_docs, val_cats, output_dict=True)\n",
    "            print('val accuracy = {:.4f}'.format(report['accuracy']))\n",
    "            # TensorBoard用のログ記録\n",
    "            writer.add_scalar('Accuracy vs Epoch/val', report['accuracy'], epoch+1)"
   ]
  },
  {
   "cell_type": "code",
   "execution_count": null,
   "metadata": {},
   "outputs": [],
   "source": [
    "report = evaluate(nlp.tokenizer, textcat, test_docs, test_cats)\n",
    "print(report)\n",
    "#report = evaluate(nlp.tokenizer, textcat, test_docs, test_cats, output_dict=True)\n",
    "#print('val accuracy is ', report['accuracy'])"
   ]
  },
  {
   "cell_type": "code",
   "execution_count": null,
   "metadata": {},
   "outputs": [],
   "source": [
    "with nlp.use_params(optimizer.averages):\n",
    "    nlp.to_disk('simple_cnn')"
   ]
  },
  {
   "cell_type": "markdown",
   "metadata": {},
   "source": [
    "#### 3.2.3.3 BERT"
   ]
  },
  {
   "cell_type": "code",
   "execution_count": 1,
   "metadata": {},
   "outputs": [],
   "source": [
    "from transformers import BertForSequenceClassification\n",
    "net = BertForSequenceClassification.from_pretrained('bert-base-japanese-whole-word-masking', num_labels=9)"
   ]
  },
  {
   "cell_type": "markdown",
   "metadata": {},
   "source": [
    "##### データの前処理"
   ]
  },
  {
   "cell_type": "code",
   "execution_count": 2,
   "metadata": {},
   "outputs": [],
   "source": [
    "from transformers import BertJapaneseTokenizer\n",
    "tokenizer = BertJapaneseTokenizer.from_pretrained('bert-base-japanese-whole-word-masking')"
   ]
  },
  {
   "cell_type": "code",
   "execution_count": 3,
   "metadata": {},
   "outputs": [
    {
     "name": "stdout",
     "output_type": "stream",
     "text": [
      "['私', 'の', '年', '##収', 'は', '00', '万', 'です', '。']\n"
     ]
    }
   ],
   "source": [
    "import re\n",
    "import mojimoji\n",
    "\n",
    "def tokenizer_with_preprocessing(text):\n",
    "        # 半角、全角の変換\n",
    "        text = mojimoji.han_to_zen(text)\n",
    "        # 改行、半角スペース、全角スペースを削除\n",
    "        text = re.sub('\\r', '', text)\n",
    "        text = re.sub('\\n', '', text)\n",
    "        text = re.sub('　', '', text)\n",
    "        text = re.sub(' ', '', text)\n",
    "        # 数字文字の一律「0」化\n",
    "        text = re.sub(r'[0-9 ０-９]', '0', text)  # 数字\n",
    "        return tokenizer.tokenize(text)\n",
    "    \n",
    "# 動作確認\n",
    "text = '私の年収は53万です。'\n",
    "print(tokenizer_with_preprocessing(text))"
   ]
  },
  {
   "cell_type": "code",
   "execution_count": 4,
   "metadata": {},
   "outputs": [],
   "source": [
    "from torchtext.data import Field\n",
    "\n",
    "TEXT = Field(\n",
    "    sequential=True,                        # データの長さが可変か\n",
    "    tokenize=tokenizer_with_preprocessing,  # トークナイザーの関数の指定\n",
    "    use_vocab=True,                         # 語彙 (Vocabオブジェクト) を利用するか (後述)\n",
    "    lower=False,                            # アルファベットを大文字から小文字に変換するか\n",
    "    include_lengths=True,                   # 各データのトークン数のリストを保持するか\n",
    "    batch_first=True,                       # データのテンソルの0次元目をミニバッチの次元にするか\n",
    "    fix_length=512,                         # 全テキストの長さを固定するか (512はbert-japaneseの仕様)\n",
    "    init_token='[CLS]',                     # 文章の開始を表すトークン\n",
    "    eos_token='[SEP]',                      # 文章の終了を表すトークン\n",
    "    pad_token='[PAD]',                      # 長さ調整のパディングに用いるトークン\n",
    "    unk_token='[UNK]'                       # 未知語を表すトークン\n",
    ")\n",
    "LABEL = Field(sequential=False, use_vocab=False)"
   ]
  },
  {
   "cell_type": "markdown",
   "metadata": {},
   "source": [
    "##### DataSetの読み込み"
   ]
  },
  {
   "cell_type": "code",
   "execution_count": 5,
   "metadata": {},
   "outputs": [],
   "source": [
    "from torchtext.data import TabularDataset\n",
    "\n",
    "train, val, test = TabularDataset.splits(\n",
    "    path='.', train='train.tsv', validation='val.tsv', test='test.tsv', format='tsv', \n",
    "    fields=[('body', TEXT), ('service', LABEL)], skip_header=True)"
   ]
  },
  {
   "cell_type": "markdown",
   "metadata": {},
   "source": [
    "#####  トークンの数値化"
   ]
  },
  {
   "cell_type": "code",
   "execution_count": 6,
   "metadata": {},
   "outputs": [
    {
     "name": "stdout",
     "output_type": "stream",
     "text": [
      "{'[PAD]': 0, '[UNK]': 1, '[CLS]': 2, '[SEP]': 3, '[MASK]': 4, 'の': 5, '、': 6, 'に': 7, '。': 8, 'は': 9, 'た': 10, 'を': 11, 'で': 12, 'と': 13, 'が': 14, 'し': 15, 'て': 16, '1': 17, 'な': 18, '年': 19}\n",
      "vocab size is 32000\n"
     ]
    }
   ],
   "source": [
    "import itertools\n",
    "\n",
    "print(dict(itertools.islice(tokenizer.vocab.items(), 20)))\n",
    "print('vocab size is', len(tokenizer.vocab))"
   ]
  },
  {
   "cell_type": "code",
   "execution_count": 7,
   "metadata": {},
   "outputs": [],
   "source": [
    "TEXT.build_vocab(train, min_freq=1)  # 一見無駄なようだが、TEXT.vocabオブジェクトを作るのに必要\n",
    "TEXT.vocab.stoi = tokenizer.vocab"
   ]
  },
  {
   "cell_type": "markdown",
   "metadata": {},
   "source": [
    "##### Iteratorの設定"
   ]
  },
  {
   "cell_type": "code",
   "execution_count": 9,
   "metadata": {},
   "outputs": [],
   "source": [
    "import torch\n",
    "from torchtext.data import Iterator\n",
    "\n",
    "batch_size = 32\n",
    "device = torch.device('cuda:0' if torch.cuda.is_available() else 'cpu')\n",
    "\n",
    "train_iter = Iterator(train, batch_size, train=True, device=device)\n",
    "val_iter = Iterator(val, batch_size, train=False, sort=False, device=device)\n",
    "test_iter = Iterator(test, batch_size, train=False, sort=False, device=device)\n",
    "# あとで扱いやすいように辞書にまとめておく\n",
    "iterator_dict = {'train': train_iter, 'val': val_iter, 'test': test_iter}"
   ]
  },
  {
   "cell_type": "markdown",
   "metadata": {},
   "source": [
    "##### BERTのファインチューニングのための設定"
   ]
  },
  {
   "cell_type": "code",
   "execution_count": 10,
   "metadata": {},
   "outputs": [],
   "source": [
    "# 1. すべてのパラメーターに対して勾配計算を False にする\n",
    "for name, param in net.named_parameters():\n",
    "    param.requires_grad = False\n",
    "# 2. BertModel の最後のレイヤーのみ勾配計算 True にする\n",
    "for name, param in net.bert.encoder.layer[-1].named_parameters():\n",
    "    param.requires_grad = True\n",
    "# 3. 分類器も勾配計算 True にする\n",
    "for name, param in net.classifier.named_parameters():\n",
    "    param.requires_grad = True"
   ]
  },
  {
   "cell_type": "code",
   "execution_count": 11,
   "metadata": {},
   "outputs": [],
   "source": [
    "# Adamアルゴリズムでそれぞれのパラメータを更新\n",
    "optimizer = torch.optim.Adam([\n",
    "    {'params': net.bert.encoder.layer[-1].parameters(), 'lr': 5e-5},\n",
    "    {'params': net.classifier.parameters(), 'lr': 5e-5}\n",
    "], betas=(0.9, 0.999))\n",
    "# 損失関数の設定\n",
    "criterion = torch.nn.CrossEntropyLoss()"
   ]
  },
  {
   "cell_type": "code",
   "execution_count": 12,
   "metadata": {},
   "outputs": [],
   "source": [
    "from datetime import datetime\n",
    "from torch.utils.tensorboard import SummaryWriter\n",
    "#writer = SummaryWriter(log_dir='./logs/bert/' + datetime.today().isoformat(timespec='seconds'))\n",
    "writer = SummaryWriter(log_dir='./logs/bert/2020-01-07T09:47:00')\n",
    "\n",
    "def train_model(net, iterator_dict, criterion, optimizer, num_epochs):\n",
    "    # GPUが使えるかを確認\n",
    "    device = torch.device('cuda:0' if torch.cuda.is_available() else 'cpu')\n",
    "    \n",
    "    # ネットワークをGPUへ送る\n",
    "    net.to(device)\n",
    "    \n",
    "    # cuDNNのベンチマークモードをオンにして高速化させる\n",
    "    torch.backends.cudnn.benchmark = True\n",
    "    \n",
    "    # ミニバッチサイズ\n",
    "    batch_size = iterator_dict['train'].batch_size\n",
    "    \n",
    "    # ログ用のイタレーション番号\n",
    "    iteration = 1\n",
    "    \n",
    "    # num_epochsだけループ\n",
    "    for epoch in range(num_epochs):\n",
    "        # epochごとの訓練とバリデーションのループ\n",
    "        for phase in ['train', 'val']:\n",
    "            if phase == 'train':\n",
    "                net.train()  # モデルを訓練モードにする\n",
    "            else:\n",
    "                net.eval()   # モデルを評価モードにする\n",
    "                \n",
    "            epoch_loss = 0.     # epochの損失和\n",
    "            epoch_corrects = 0  # epochの正解数\n",
    "            \n",
    "            # データローダーからミニバッチを取り出すループ\n",
    "            for batch in iterator_dict[phase]:\n",
    "                inputs = batch.body[0]  # テキスト\n",
    "                labels = batch.service  # ラベル\n",
    "                \n",
    "                # optimizerの初期化\n",
    "                optimizer.zero_grad()\n",
    "                \n",
    "                # 順伝搬計算\n",
    "                with torch.set_grad_enabled(phase == 'train'):\n",
    "                    # 損失とネットワークの出力値を取得\n",
    "                    loss, outputs = net(input_ids=inputs, labels=labels)\n",
    "                    # ラベルを予測\n",
    "                    _, preds = torch.max(outputs, dim=1)\n",
    "                    # 訓練時は誤差逆伝搬\n",
    "                    if phase == 'train':\n",
    "                        loss.backward()\n",
    "                        optimizer.step()\n",
    "                        \n",
    "                        if (iteration % 10 == 0):  # 10イタレーションに一度ログ出力\n",
    "                            # ミニバッチの正解率を計算\n",
    "                            acc = (torch.sum(preds == labels.data)).double() / batch_size\n",
    "                            print('iteration {} || Loss: {:.4f} || acc {}'.format(\n",
    "                                iteration, loss.item(), acc.item()))\n",
    "                            # 損失と正解率をTensorBoardに記録\n",
    "                            writer.add_scalar(\"Loss vs Iteration/{}\".format(phase), loss.item(), iteration)\n",
    "                            writer.add_scalar(\"Accuracy vs Iteration/{}\".format(phase), acc.item(), iteration)\n",
    "                        iteration += 1\n",
    "                    \n",
    "                    # epochの損失と正解数の合計を更新\n",
    "                    epoch_loss += loss.item() * batch_size\n",
    "                    epoch_corrects += torch.sum(preds == labels.data)\n",
    "        # epochごとの損失と正解率を計算\n",
    "        epoch_loss = epoch_loss / len(iterator_dict[phase].dataset)\n",
    "        epoch_acc = epoch_corrects.double() / len(iterator_dict[phase].dataset)\n",
    "        # TensorBoardに記録\n",
    "        writer.add_scalar(\"Loss vs Epoch/{}\".format(phase), epoch_loss, epoch + 1)\n",
    "        writer.add_scalar(\"Accuracy vs Epoch/{}\".format(phase), epoch_acc, epoch + 1)\n",
    "        \n",
    "        print('Epoch {}/{} | {} | Loss: {:.4f} Acc: {:.4f}'.format(\n",
    "            epoch + 1, num_epochs, phase, epoch_loss, epoch_acc))\n",
    "    return net"
   ]
  },
  {
   "cell_type": "code",
   "execution_count": null,
   "metadata": {},
   "outputs": [],
   "source": [
    "num_epochs = 32\n",
    "net_trained = train_model(net, iterator_dict, criterion, optimizer, num_epochs)"
   ]
  },
  {
   "cell_type": "code",
   "execution_count": null,
   "metadata": {},
   "outputs": [],
   "source": [
    "import os\n",
    "\n",
    "# 訓練したネットワークパラメーターを保存\n",
    "#save_path = 'bert_trained.pth'\n",
    "#torch.save(net_trained.state_dics(), save_path)\n",
    "os.makedirs('./bert', exist_ok=True)\n",
    "net_trained.save_pretrained('./bert')\n",
    "# GPUを使えるかどうか\n",
    "device = torch.device('cuda:0' if torch.cuda.is_available() else 'cpu')\n",
    "\n",
    "net_trained.eval()      # モデルを評価モードにする\n",
    "net_trained.to(device)  # GPUが使えるならGPUに送る\n",
    "\n",
    "# 正解数\n",
    "num_corrects = 0\n",
    "\n",
    "# テストデータに対するループ\n",
    "for batch in tqdm(iterator_dict['test']):\n",
    "    inputs = batch.body[0]  # テキスト\n",
    "    labels = batch.service  # ラベル\n",
    "    \n",
    "    # 順伝搬計算\n",
    "    with torch.set_grad_enabled(False):\n",
    "        _, outputs = net_trained(input_ids=inputs, labels=labels)\n",
    "        # ラベルを予測\n",
    "        _, preds = torch.max(outputs, dim=1)\n",
    "        # 正解数の合計を更新\n",
    "        num_corrects += torch.sum(preds == labels.data)\n",
    "# 正解率を計算\n",
    "acc = num_corrects.double() / len(iterator_dict['test'].dataset)\n",
    "print('テストデータ {} 個での正解率: {:.4f}'.format(len(iterator_dict['test'].dataset), acc))"
   ]
  },
  {
   "cell_type": "markdown",
   "metadata": {},
   "source": [
    "### 3.2.4 評価と比較"
   ]
  },
  {
   "cell_type": "markdown",
   "metadata": {},
   "source": [
    "## 3.3 まとめ"
   ]
  },
  {
   "cell_type": "code",
   "execution_count": null,
   "metadata": {},
   "outputs": [],
   "source": []
  }
 ],
 "metadata": {
  "kernelspec": {
   "display_name": "Python 3",
   "language": "python",
   "name": "python3"
  },
  "language_info": {
   "codemirror_mode": {
    "name": "ipython",
    "version": 3
   },
   "file_extension": ".py",
   "mimetype": "text/x-python",
   "name": "python",
   "nbconvert_exporter": "python",
   "pygments_lexer": "ipython3",
   "version": "3.7.5"
  }
 },
 "nbformat": 4,
 "nbformat_minor": 2
}
